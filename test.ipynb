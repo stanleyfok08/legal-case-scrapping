{
 "cells": [
  {
   "cell_type": "code",
   "execution_count": 1,
   "metadata": {},
   "outputs": [],
   "source": [
    "from llama_index import SimpleDirectoryReader, GPTListIndex, LLMPredictor, GPTVectorStoreIndex, PromptHelper, ServiceContext, StorageContext, load_index_from_storage, Document\n",
    "from langchain import OpenAI\n",
    "from openai.error import RateLimitError\n",
    "import sys, os, shutil\n",
    "import pandas as pd\n",
    "from pathlib import Path"
   ]
  },
  {
   "cell_type": "code",
   "execution_count": 2,
   "metadata": {},
   "outputs": [],
   "source": [
    "def move_files_into_folder():\n",
    "  # move files into a folder\n",
    "  dir_name = 'knowledge'\n",
    "  for i in os.listdir(dir_name):\n",
    "    os.mkdir(os.path.join(dir_name , i.split(\".\")[0]))\n",
    "    shutil.move(os.path.join(dir_name , i), os.path.join(dir_name , i.split(\".\")[0]))"
   ]
  },
  {
   "cell_type": "code",
   "execution_count": 3,
   "metadata": {},
   "outputs": [],
   "source": [
    "os.environ[\"OPENAI_API_KEY\"] = \"YOUR OPENAI KEY HERE\""
   ]
  },
  {
   "cell_type": "code",
   "execution_count": 4,
   "metadata": {},
   "outputs": [],
   "source": [
    "def create_index(path,folder):\n",
    "    max_input = 4096\n",
    "    tokens = 256\n",
    "    chunk_size = 600\n",
    "    max_chunk_overlap = 0.1\n",
    "\n",
    "    prompt_helper = PromptHelper(max_input, tokens, max_chunk_overlap, chunk_size_limit=chunk_size)\n",
    "\n",
    "    #define LLM\n",
    "    llmPredictor = LLMPredictor(llm=OpenAI(temperature=0, model=\"text-ada-001\", max_tokens=tokens))\n",
    "\n",
    "    #load data\n",
    "    docs = SimpleDirectoryReader(path).load_data()\n",
    "\n",
    "    #create vector index\n",
    "    service_context = ServiceContext.from_defaults(llm_predictor=llmPredictor,prompt_helper=prompt_helper)\n",
    "    vectorIndex = GPTVectorStoreIndex.from_documents(documents=docs,service_context=service_context)\n",
    "\n",
    "    vectorIndex.storage_context.persist(persist_dir=\"Store/\"+folder)\n",
    "\n",
    "    return vectorIndex"
   ]
  },
  {
   "cell_type": "code",
   "execution_count": 16,
   "metadata": {},
   "outputs": [
    {
     "name": "stdout",
     "output_type": "stream",
     "text": [
      "knowledge\\DCCC000526_2010 DCCC000526_2010\n"
     ]
    }
   ],
   "source": [
    "# for creating knowledge database\n",
    "for folders in os.listdir('knowledge'):\n",
    "    f = os.path.join('knowledge', folders)\n",
    "    print(f,folders)\n",
    "    create_index(f,folders)"
   ]
  },
  {
   "cell_type": "code",
   "execution_count": 5,
   "metadata": {},
   "outputs": [],
   "source": [
    "if os.path.isfile('test_criminal.csv'):\n",
    "    df = pd.read_csv('test_criminal.csv')\n",
    "else:\n",
    "    df = pd.DataFrame(columns=['Case ID','Date','Defendent','Offence','Judgement','Social work hours','Jail time days'])"
   ]
  },
  {
   "cell_type": "code",
   "execution_count": 6,
   "metadata": {},
   "outputs": [],
   "source": [
    "def answerMe(question,folder):\n",
    "    storage_context = StorageContext.from_defaults(persist_dir=folder)\n",
    "    index = load_index_from_storage(storage_context)\n",
    "    query_engine = index.as_query_engine()\n",
    "    responce = query_engine.query(question)\n",
    "    return responce"
   ]
  },
  {
   "cell_type": "code",
   "execution_count": 8,
   "metadata": {},
   "outputs": [
    {
     "name": "stdout",
     "output_type": "stream",
     "text": [
      "store\\DCCC000526_2010 DCCC000526_2010\n",
      "\n",
      "The case number is not provided in the context information.\n",
      "\n",
      "February 2011\n",
      "\n",
      "The defendant's name is not given in the context information.\n",
      "\n",
      "Fraudulently or recklessly inducing others to invest money contrary to sections 1071 A(1) and 2(a) of the Securities and Futures Ordinance Cap.571.\n",
      "\n",
      "Yes, this is a final judgement. The text includes the District Judge's conclusion that none of the seven charges is proved beyond all reasonable doubt and that the charges are dismissed. The text also includes the District Judge's order for costs to be taxed if not agreed.\n",
      "Yes\n",
      "\n",
      "The verdict is that none of the seven charges is proved beyond all reasonable doubt and therefore they are dismissed.\n",
      "store\\DCCC000527_2010 DCCC000527_2010\n",
      "\n",
      "The case number is 527 & 1272 of 2010.\n",
      "\n",
      "25 May 2011\n",
      "\n",
      "Tai Ching\n",
      "\n",
      "The offence is fraudulently or recklessly inducing others to invest money contrary to section 107 of the Securities and Futures Ordinance, Cap. 571.\n",
      "\n",
      "Yes, this is a final judgement. The text states that the defendant is acquitted of charge 1 and 3, and the District Judge has provided their reasons for the verdict.\n",
      "Yes\n",
      "\n",
      "The verdict is that the defendant is acquitted of charge 1 and 3.\n",
      "store\\DCCC000527_2010 (1) DCCC000527_2010 (1)\n",
      "\n",
      "The case number is 527 & 1272 of 2010.\n",
      "\n",
      "25 May 2011\n",
      "\n",
      "Tai Ching\n",
      "\n",
      "The offence is fraudulently or recklessly inducing others to invest money contrary to section 107 of the Securities and Futures Ordinance, Cap. 571.\n",
      "\n",
      "Yes, this is a final judgement. The text states that the defendant is acquitted of charge 1 and 3, and the District Judge has provided their reasons for the verdict.\n",
      "Yes\n",
      "\n",
      "The verdict is that the defendant is acquitted of charge 1 and 3.\n",
      "store\\DCCC001193_2018 DCCC001193_2018\n",
      "\n",
      "CRIMINAL CASE NO 1193 OF 2018\n",
      "\n",
      "13 July 2020\n",
      "\n",
      "Mak Hoi Ching also known as Mak Carmen Ka Man and Mak Ka Man.\n",
      "Miss Mak is accused of.\n",
      "\n",
      "Miss Mak is accused of wounding Mr X with intention to do him grievous bodily harm on various body parts including burning his penis with a hair dryer, banging his head against the wall, pouring boiling water on his thighs, cutting him with scissors and pouring chili oil onto the wounds on his chest, and threatening Mr X’s family, especially his elderly grandmother.\n",
      "\n",
      "No, this is not a final judgement. This is a consideration of an application made by the prosecution for the use of a screen and special passageway for a witness. The Deputy District Judge is providing their opinion on the application and has not yet made a final judgement.\n",
      "No\n",
      "store\\DCCC001214_2010 DCCC001214_2010\n",
      "\n",
      "DCCC1214/2010\n",
      "\n",
      "2011年9月2日\n",
      "\n",
      "第一被告人：陳志雲\n",
      "\n",
      "1. Offering an advantage to an agent, contrary to sections 9(2)(a) and 12(1) of the Prevention of Bribery Ordinance, Cap.201. (alternative to the 1st Charge)\n",
      "2. Conspiracy to defraud, contrary to Common Law and punishable under section 159C(6) of the Crimes Ordinance, Cap. 200.\n",
      "\n",
      "不是，這是一個審訊日期。\n",
      "store\\docstore.json docstore.json\n"
     ]
    },
    {
     "ename": "FileNotFoundError",
     "evalue": "[Errno 2] No such file or directory: 'e:/intern/4 legal case search/chatgpt test/store/docstore.json/docstore.json'",
     "output_type": "error",
     "traceback": [
      "\u001b[1;31m---------------------------------------------------------------------------\u001b[0m",
      "\u001b[1;31mFileNotFoundError\u001b[0m                         Traceback (most recent call last)",
      "Cell \u001b[1;32mIn[8], line 10\u001b[0m\n\u001b[0;32m      7\u001b[0m \u001b[39mprint\u001b[39m(f,folders)\n\u001b[0;32m      9\u001b[0m \u001b[39mtry\u001b[39;00m:\n\u001b[1;32m---> 10\u001b[0m     responce_case \u001b[39m=\u001b[39m answerMe(\u001b[39m\"\u001b[39;49m\u001b[39mWhat is the case number?\u001b[39;49m\u001b[39m\"\u001b[39;49m,f)\n\u001b[0;32m     11\u001b[0m     \u001b[39mprint\u001b[39m(\u001b[39mstr\u001b[39m(responce_case))\n\u001b[0;32m     12\u001b[0m \u001b[39mexcept\u001b[39;00m RateLimitError:\n",
      "Cell \u001b[1;32mIn[6], line 2\u001b[0m, in \u001b[0;36manswerMe\u001b[1;34m(question, folder)\u001b[0m\n\u001b[0;32m      1\u001b[0m \u001b[39mdef\u001b[39;00m \u001b[39manswerMe\u001b[39m(question,folder):\n\u001b[1;32m----> 2\u001b[0m     storage_context \u001b[39m=\u001b[39m StorageContext\u001b[39m.\u001b[39;49mfrom_defaults(persist_dir\u001b[39m=\u001b[39;49mfolder)\n\u001b[0;32m      3\u001b[0m     index \u001b[39m=\u001b[39m load_index_from_storage(storage_context)\n\u001b[0;32m      4\u001b[0m     query_engine \u001b[39m=\u001b[39m index\u001b[39m.\u001b[39mas_query_engine()\n",
      "File \u001b[1;32mc:\\Python\\Python310\\lib\\site-packages\\llama_index\\storage\\storage_context.py:75\u001b[0m, in \u001b[0;36mStorageContext.from_defaults\u001b[1;34m(cls, docstore, index_store, vector_store, graph_store, persist_dir, fs)\u001b[0m\n\u001b[0;32m     73\u001b[0m     graph_store \u001b[39m=\u001b[39m graph_store \u001b[39mor\u001b[39;00m SimpleGraphStore()\n\u001b[0;32m     74\u001b[0m \u001b[39melse\u001b[39;00m:\n\u001b[1;32m---> 75\u001b[0m     docstore \u001b[39m=\u001b[39m docstore \u001b[39mor\u001b[39;00m SimpleDocumentStore\u001b[39m.\u001b[39;49mfrom_persist_dir(\n\u001b[0;32m     76\u001b[0m         persist_dir, fs\u001b[39m=\u001b[39;49mfs\n\u001b[0;32m     77\u001b[0m     )\n\u001b[0;32m     78\u001b[0m     index_store \u001b[39m=\u001b[39m index_store \u001b[39mor\u001b[39;00m SimpleIndexStore\u001b[39m.\u001b[39mfrom_persist_dir(\n\u001b[0;32m     79\u001b[0m         persist_dir, fs\u001b[39m=\u001b[39mfs\n\u001b[0;32m     80\u001b[0m     )\n\u001b[0;32m     81\u001b[0m     vector_store \u001b[39m=\u001b[39m vector_store \u001b[39mor\u001b[39;00m SimpleVectorStore\u001b[39m.\u001b[39mfrom_persist_dir(\n\u001b[0;32m     82\u001b[0m         persist_dir, fs\u001b[39m=\u001b[39mfs\n\u001b[0;32m     83\u001b[0m     )\n",
      "File \u001b[1;32mc:\\Python\\Python310\\lib\\site-packages\\llama_index\\storage\\docstore\\simple_docstore.py:57\u001b[0m, in \u001b[0;36mSimpleDocumentStore.from_persist_dir\u001b[1;34m(cls, persist_dir, namespace, fs)\u001b[0m\n\u001b[0;32m     55\u001b[0m \u001b[39melse\u001b[39;00m:\n\u001b[0;32m     56\u001b[0m     persist_path \u001b[39m=\u001b[39m os\u001b[39m.\u001b[39mpath\u001b[39m.\u001b[39mjoin(persist_dir, DEFAULT_PERSIST_FNAME)\n\u001b[1;32m---> 57\u001b[0m \u001b[39mreturn\u001b[39;00m \u001b[39mcls\u001b[39;49m\u001b[39m.\u001b[39;49mfrom_persist_path(persist_path, namespace\u001b[39m=\u001b[39;49mnamespace, fs\u001b[39m=\u001b[39;49mfs)\n",
      "File \u001b[1;32mc:\\Python\\Python310\\lib\\site-packages\\llama_index\\storage\\docstore\\simple_docstore.py:75\u001b[0m, in \u001b[0;36mSimpleDocumentStore.from_persist_path\u001b[1;34m(cls, persist_path, namespace, fs)\u001b[0m\n\u001b[0;32m     59\u001b[0m \u001b[39m@classmethod\u001b[39m\n\u001b[0;32m     60\u001b[0m \u001b[39mdef\u001b[39;00m \u001b[39mfrom_persist_path\u001b[39m(\n\u001b[0;32m     61\u001b[0m     \u001b[39mcls\u001b[39m,\n\u001b[1;32m   (...)\u001b[0m\n\u001b[0;32m     64\u001b[0m     fs: Optional[fsspec\u001b[39m.\u001b[39mAbstractFileSystem] \u001b[39m=\u001b[39m \u001b[39mNone\u001b[39;00m,\n\u001b[0;32m     65\u001b[0m ) \u001b[39m-\u001b[39m\u001b[39m>\u001b[39m \u001b[39m\"\u001b[39m\u001b[39mSimpleDocumentStore\u001b[39m\u001b[39m\"\u001b[39m:\n\u001b[0;32m     66\u001b[0m \u001b[39m    \u001b[39m\u001b[39m\"\"\"Create a SimpleDocumentStore from a persist path.\u001b[39;00m\n\u001b[0;32m     67\u001b[0m \n\u001b[0;32m     68\u001b[0m \u001b[39m    Args:\u001b[39;00m\n\u001b[1;32m   (...)\u001b[0m\n\u001b[0;32m     72\u001b[0m \n\u001b[0;32m     73\u001b[0m \u001b[39m    \"\"\"\u001b[39;00m\n\u001b[1;32m---> 75\u001b[0m     simple_kvstore \u001b[39m=\u001b[39m SimpleKVStore\u001b[39m.\u001b[39;49mfrom_persist_path(persist_path, fs\u001b[39m=\u001b[39;49mfs)\n\u001b[0;32m     76\u001b[0m     \u001b[39mreturn\u001b[39;00m \u001b[39mcls\u001b[39m(simple_kvstore, namespace)\n",
      "File \u001b[1;32mc:\\Python\\Python310\\lib\\site-packages\\llama_index\\storage\\kvstore\\simple_kvstore.py:75\u001b[0m, in \u001b[0;36mSimpleKVStore.from_persist_path\u001b[1;34m(cls, persist_path, fs)\u001b[0m\n\u001b[0;32m     73\u001b[0m fs \u001b[39m=\u001b[39m fs \u001b[39mor\u001b[39;00m fsspec\u001b[39m.\u001b[39mfilesystem(\u001b[39m\"\u001b[39m\u001b[39mfile\u001b[39m\u001b[39m\"\u001b[39m)\n\u001b[0;32m     74\u001b[0m logger\u001b[39m.\u001b[39mdebug(\u001b[39mf\u001b[39m\u001b[39m\"\u001b[39m\u001b[39mLoading \u001b[39m\u001b[39m{\u001b[39;00m\u001b[39m__name__\u001b[39m\u001b[39m}\u001b[39;00m\u001b[39m from \u001b[39m\u001b[39m{\u001b[39;00mpersist_path\u001b[39m}\u001b[39;00m\u001b[39m.\u001b[39m\u001b[39m\"\u001b[39m)\n\u001b[1;32m---> 75\u001b[0m \u001b[39mwith\u001b[39;00m fs\u001b[39m.\u001b[39;49mopen(persist_path, \u001b[39m\"\u001b[39;49m\u001b[39mrb\u001b[39;49m\u001b[39m\"\u001b[39;49m) \u001b[39mas\u001b[39;00m f:\n\u001b[0;32m     76\u001b[0m     data \u001b[39m=\u001b[39m json\u001b[39m.\u001b[39mload(f)\n\u001b[0;32m     77\u001b[0m \u001b[39mreturn\u001b[39;00m \u001b[39mcls\u001b[39m(data)\n",
      "File \u001b[1;32mc:\\Python\\Python310\\lib\\site-packages\\fsspec\\spec.py:1241\u001b[0m, in \u001b[0;36mAbstractFileSystem.open\u001b[1;34m(self, path, mode, block_size, cache_options, compression, **kwargs)\u001b[0m\n\u001b[0;32m   1239\u001b[0m \u001b[39melse\u001b[39;00m:\n\u001b[0;32m   1240\u001b[0m     ac \u001b[39m=\u001b[39m kwargs\u001b[39m.\u001b[39mpop(\u001b[39m\"\u001b[39m\u001b[39mautocommit\u001b[39m\u001b[39m\"\u001b[39m, \u001b[39mnot\u001b[39;00m \u001b[39mself\u001b[39m\u001b[39m.\u001b[39m_intrans)\n\u001b[1;32m-> 1241\u001b[0m     f \u001b[39m=\u001b[39m \u001b[39mself\u001b[39m\u001b[39m.\u001b[39m_open(\n\u001b[0;32m   1242\u001b[0m         path,\n\u001b[0;32m   1243\u001b[0m         mode\u001b[39m=\u001b[39mmode,\n\u001b[0;32m   1244\u001b[0m         block_size\u001b[39m=\u001b[39mblock_size,\n\u001b[0;32m   1245\u001b[0m         autocommit\u001b[39m=\u001b[39mac,\n\u001b[0;32m   1246\u001b[0m         cache_options\u001b[39m=\u001b[39mcache_options,\n\u001b[0;32m   1247\u001b[0m         \u001b[39m*\u001b[39m\u001b[39m*\u001b[39mkwargs,\n\u001b[0;32m   1248\u001b[0m     )\n\u001b[0;32m   1249\u001b[0m     \u001b[39mif\u001b[39;00m compression \u001b[39mis\u001b[39;00m \u001b[39mnot\u001b[39;00m \u001b[39mNone\u001b[39;00m:\n\u001b[0;32m   1250\u001b[0m         \u001b[39mfrom\u001b[39;00m \u001b[39mfsspec\u001b[39;00m\u001b[39m.\u001b[39;00m\u001b[39mcompression\u001b[39;00m \u001b[39mimport\u001b[39;00m compr\n",
      "File \u001b[1;32mc:\\Python\\Python310\\lib\\site-packages\\fsspec\\implementations\\local.py:184\u001b[0m, in \u001b[0;36mLocalFileSystem._open\u001b[1;34m(self, path, mode, block_size, **kwargs)\u001b[0m\n\u001b[0;32m    182\u001b[0m \u001b[39mif\u001b[39;00m \u001b[39mself\u001b[39m\u001b[39m.\u001b[39mauto_mkdir \u001b[39mand\u001b[39;00m \u001b[39m\"\u001b[39m\u001b[39mw\u001b[39m\u001b[39m\"\u001b[39m \u001b[39min\u001b[39;00m mode:\n\u001b[0;32m    183\u001b[0m     \u001b[39mself\u001b[39m\u001b[39m.\u001b[39mmakedirs(\u001b[39mself\u001b[39m\u001b[39m.\u001b[39m_parent(path), exist_ok\u001b[39m=\u001b[39m\u001b[39mTrue\u001b[39;00m)\n\u001b[1;32m--> 184\u001b[0m \u001b[39mreturn\u001b[39;00m LocalFileOpener(path, mode, fs\u001b[39m=\u001b[39m\u001b[39mself\u001b[39m, \u001b[39m*\u001b[39m\u001b[39m*\u001b[39mkwargs)\n",
      "File \u001b[1;32mc:\\Python\\Python310\\lib\\site-packages\\fsspec\\implementations\\local.py:315\u001b[0m, in \u001b[0;36mLocalFileOpener.__init__\u001b[1;34m(self, path, mode, autocommit, fs, compression, **kwargs)\u001b[0m\n\u001b[0;32m    313\u001b[0m \u001b[39mself\u001b[39m\u001b[39m.\u001b[39mcompression \u001b[39m=\u001b[39m get_compression(path, compression)\n\u001b[0;32m    314\u001b[0m \u001b[39mself\u001b[39m\u001b[39m.\u001b[39mblocksize \u001b[39m=\u001b[39m io\u001b[39m.\u001b[39mDEFAULT_BUFFER_SIZE\n\u001b[1;32m--> 315\u001b[0m \u001b[39mself\u001b[39;49m\u001b[39m.\u001b[39;49m_open()\n",
      "File \u001b[1;32mc:\\Python\\Python310\\lib\\site-packages\\fsspec\\implementations\\local.py:320\u001b[0m, in \u001b[0;36mLocalFileOpener._open\u001b[1;34m(self)\u001b[0m\n\u001b[0;32m    318\u001b[0m \u001b[39mif\u001b[39;00m \u001b[39mself\u001b[39m\u001b[39m.\u001b[39mf \u001b[39mis\u001b[39;00m \u001b[39mNone\u001b[39;00m \u001b[39mor\u001b[39;00m \u001b[39mself\u001b[39m\u001b[39m.\u001b[39mf\u001b[39m.\u001b[39mclosed:\n\u001b[0;32m    319\u001b[0m     \u001b[39mif\u001b[39;00m \u001b[39mself\u001b[39m\u001b[39m.\u001b[39mautocommit \u001b[39mor\u001b[39;00m \u001b[39m\"\u001b[39m\u001b[39mw\u001b[39m\u001b[39m\"\u001b[39m \u001b[39mnot\u001b[39;00m \u001b[39min\u001b[39;00m \u001b[39mself\u001b[39m\u001b[39m.\u001b[39mmode:\n\u001b[1;32m--> 320\u001b[0m         \u001b[39mself\u001b[39m\u001b[39m.\u001b[39mf \u001b[39m=\u001b[39m \u001b[39mopen\u001b[39;49m(\u001b[39mself\u001b[39;49m\u001b[39m.\u001b[39;49mpath, mode\u001b[39m=\u001b[39;49m\u001b[39mself\u001b[39;49m\u001b[39m.\u001b[39;49mmode)\n\u001b[0;32m    321\u001b[0m         \u001b[39mif\u001b[39;00m \u001b[39mself\u001b[39m\u001b[39m.\u001b[39mcompression:\n\u001b[0;32m    322\u001b[0m             compress \u001b[39m=\u001b[39m compr[\u001b[39mself\u001b[39m\u001b[39m.\u001b[39mcompression]\n",
      "\u001b[1;31mFileNotFoundError\u001b[0m: [Errno 2] No such file or directory: 'e:/intern/4 legal case search/chatgpt test/store/docstore.json/docstore.json'"
     ]
    }
   ],
   "source": [
    "# for creating knowledge database\n",
    "for index,folders in enumerate(os.listdir('store')):\n",
    "\n",
    "    if index < 1 or index > 1: break\n",
    "    \n",
    "    f = os.path.join('store', folders)\n",
    "    if \"json\" in folders: break\n",
    "    print(f,folders)\n",
    "\n",
    "    try:\n",
    "        responce_case = answerMe(\"What is the case number?\",f)\n",
    "        print(str(responce_case))\n",
    "    except RateLimitError:\n",
    "        print(\"reached limit\")\n",
    "        break\n",
    "\n",
    "    try:\n",
    "        responce_date = answerMe(\"What is the date of ruling?\",f)\n",
    "        print(str(responce_date))\n",
    "    except RateLimitError:\n",
    "        print(\"reached limit\")\n",
    "        break\n",
    "\n",
    "    try:\n",
    "        responce_defendant = answerMe(\"What is the defendant(s) name?\",f)\n",
    "        print(str(responce_defendant))\n",
    "    except RateLimitError:\n",
    "        print(\"reached limit\")\n",
    "        break\n",
    "\n",
    "    try:\n",
    "        responce_offence = answerMe(\"List the offence(s)\",f)\n",
    "        print(str(responce_offence))\n",
    "    except RateLimitError:\n",
    "        print(\"reached limit\")\n",
    "        break\n",
    "    try:\n",
    "        responce_judgement = answerMe(\"is this a final judgement?\",f)\n",
    "        print(str(responce_judgement))\n",
    "    except RateLimitError:\n",
    "        print(\"reached limit\")\n",
    "        break\n",
    "\n",
    "    if \"No\" in str(responce_judgement):\n",
    "        print(\"No\")\n",
    "        responce_punishment = \"To be determined\"\n",
    "        punishment_social_work = \"\"\n",
    "        punishment_jail_time = \"\"\n",
    "        \n",
    "    elif \"Yes\" in str(responce_judgement):\n",
    "        print(\"Yes\")\n",
    "\n",
    "        try:\n",
    "            responce_punishment = answerMe(\"what is the verdict?\",f)\n",
    "            print(str(responce_punishment))\n",
    "        except RateLimitError:\n",
    "            print(\"reached limit\")\n",
    "            break\n",
    "\n",
    "        # to be implenmented\n",
    "        punishment_social_work = \"\"\n",
    "        punishment_jail_time = \"\"\n",
    "\n",
    "    df.loc[len(df)] = [\"\",responce_case, responce_date, responce_defendant, responce_offence, responce_punishment, punishment_social_work, punishment_jail_time]"
   ]
  },
  {
   "cell_type": "code",
   "execution_count": 6,
   "metadata": {},
   "outputs": [],
   "source": [
    "df.to_csv(\"test_criminal.csv\")"
   ]
  }
 ],
 "metadata": {
  "kernelspec": {
   "display_name": "Python 3",
   "language": "python",
   "name": "python3"
  },
  "language_info": {
   "codemirror_mode": {
    "name": "ipython",
    "version": 3
   },
   "file_extension": ".py",
   "mimetype": "text/x-python",
   "name": "python",
   "nbconvert_exporter": "python",
   "pygments_lexer": "ipython3",
   "version": "3.10.11"
  },
  "orig_nbformat": 4
 },
 "nbformat": 4,
 "nbformat_minor": 2
}
