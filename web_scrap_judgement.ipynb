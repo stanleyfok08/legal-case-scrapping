{
 "cells": [
  {
   "cell_type": "code",
   "execution_count": 1,
   "metadata": {},
   "outputs": [
    {
     "data": {
      "text/plain": [
       "'\\nfor Linux, do these commands before using webdriver:\\n    cd /usr/local/share\\n    wget -N http://chromedriver.storage.googleapis.com/2.26/chromedriver_linux64.zip\\n    unzip chromedriver_linux64.zip\\n    chmod +x chromedriver\\n    ln -s /usr/local/share/chromedriver /usr/local/bin/chromedriver\\n    ln -s /usr/local/share/chromedriver /usr/bin/chromedriver\\n\\nfor windows, to use the webdriver\\n    download from https://chromedriver.chromium.org/\\n    unzip the exe into the working folder\\n    done\\n'"
      ]
     },
     "execution_count": 1,
     "metadata": {},
     "output_type": "execute_result"
    }
   ],
   "source": [
    "# Load selenium components\n",
    "from selenium import webdriver\n",
    "from selenium.webdriver.common.by import By\n",
    "from selenium.webdriver.common.keys import Keys\n",
    "from selenium.webdriver.support.ui import WebDriverWait, Select\n",
    "from selenium.webdriver.support import expected_conditions as EC\n",
    "from selenium.common.exceptions import TimeoutException\n",
    "import pandas as pd\n",
    "import time, os\n",
    "\n",
    "\"\"\"\n",
    "for Linux, do these commands before using webdriver:\n",
    "    cd /usr/local/share\n",
    "    wget -N http://chromedriver.storage.googleapis.com/2.26/chromedriver_linux64.zip\n",
    "    unzip chromedriver_linux64.zip\n",
    "    chmod +x chromedriver\n",
    "    ln -s /usr/local/share/chromedriver /usr/local/bin/chromedriver\n",
    "    ln -s /usr/local/share/chromedriver /usr/bin/chromedriver\n",
    "\n",
    "for windows, to use the webdriver\n",
    "    download from https://chromedriver.chromium.org/\n",
    "    unzip the exe into the working folder\n",
    "    done\n",
    "\"\"\""
   ]
  },
  {
   "cell_type": "code",
   "execution_count": 9,
   "metadata": {},
   "outputs": [],
   "source": [
    "driver = webdriver.Chrome()"
   ]
  },
  {
   "cell_type": "code",
   "execution_count": 10,
   "metadata": {},
   "outputs": [
    {
     "name": "stdout",
     "output_type": "stream",
     "text": [
      "now doing DistrictCourt_CriminalCase_2022\n",
      "found 4 elements\n",
      "created path e:\\intern\\4 legal case search\\web scrapping\\DistrictCourt_CriminalCase_2022\n",
      "find https://legalref.judiciary.hk/lrs/common/ju/ju_top.jsp?DIS=146166\n",
      "find https://legalref.judiciary.hk/lrs/common/ju/ju_top.jsp?DIS=151736\n",
      "find https://legalref.judiciary.hk/lrs/common/ju/ju_top.jsp?DIS=153565\n",
      "find https://legalref.judiciary.hk/lrs/common/ju/ju_top.jsp?DIS=153568\n",
      "finish all elements\n"
     ]
    }
   ],
   "source": [
    "for index in range(1971,2023):\n",
    "    # if index > 1973: break\n",
    "    if index in [2011, 2001, 1999, 1998, 1996, 1990, 1985, 1983]: continue\n",
    "    folder = \"DistrictCourt_CriminalCase_\" + str(index)\n",
    "    \n",
    "    print(\"now doing\", folder)\n",
    "\n",
    "    # get url for scrapping\n",
    "    url = \"https://legalref.judiciary.hk/lrs/common/ju/judgment.jsp?EX=T&L1=DC&L2=CC&L3=\" + str(index)\n",
    "\n",
    "    # open url in browser\n",
    "    driver.get(url)\n",
    "\n",
    "    # search and get a list document links as elements\n",
    "    elems = driver.find_elements(By.XPATH,\"//*[@id='JSCookTreeItem']/td[3]/a/table/tbody/tr[1]/td/table/tbody/tr/td[2]/a\")\n",
    "    print(\"found\",elems.__len__(),\"elements\")\n",
    "    \n",
    "    # setting download path\n",
    "    dl_path = os.path.join(os.getcwd(), folder)\n",
    "\n",
    "    # create folder if not exist\n",
    "    if not os.path.exists(dl_path):\n",
    "        os.makedirs(dl_path)\n",
    "        print(\"created path\",dl_path)\n",
    "\n",
    "    else:\n",
    "        continue\n",
    "\n",
    "    # tell the browser to download to designated location and open a new window\n",
    "    option = webdriver.ChromeOptions()\n",
    "    option.add_experimental_option(\"prefs\", {\"download.default_directory\" : dl_path})\n",
    "    driver2 = webdriver.Chrome(options=option)\n",
    "\n",
    "    # loop the element lists to get the link\n",
    "    for e in elems:\n",
    "        try:\n",
    "            # get href link from elements, extract the exact url we need, then replace \"frame\" with \"top\" to only get the document download link\n",
    "            # this is because the \"frame\" link will open a page with several frames, we only need the top frame\n",
    "            link = e.get_attribute(\"href\").partition(\"('\")[2].partition(\"%27\")[0].replace(\"frame\",\"top\")\n",
    "            print(\"find\",link)\n",
    "            # open the extracted link\n",
    "            driver2.get(link)\n",
    "            #find the \"Go to Word\" element and click it to download it\n",
    "            driver2.find_element(By.XPATH, \"/html/body/table/tbody/tr[1]/td/table/tbody/tr/td[1]/a[3]\").click()\n",
    "            time.sleep(1)\n",
    "        except:\n",
    "            print(\"cannot get href\")\n",
    "\n",
    "    #time.sleep(2)\n",
    "    driver2.close()\n",
    "\n",
    "    print(\"finish all elements\")\n",
    "    #time.sleep(3)"
   ]
  },
  {
   "cell_type": "code",
   "execution_count": 5,
   "metadata": {},
   "outputs": [],
   "source": [
    "driver.close()    "
   ]
  }
 ],
 "metadata": {
  "kernelspec": {
   "display_name": "Python 3.10.5 64-bit",
   "language": "python",
   "name": "python3"
  },
  "language_info": {
   "codemirror_mode": {
    "name": "ipython",
    "version": 3
   },
   "file_extension": ".py",
   "mimetype": "text/x-python",
   "name": "python",
   "nbconvert_exporter": "python",
   "pygments_lexer": "ipython3",
   "version": "3.10.11"
  },
  "orig_nbformat": 4,
  "vscode": {
   "interpreter": {
    "hash": "d3e10ef16274dd72e574b8fa73b58450b957d8421a2901baded3cca26fcf5dda"
   }
  }
 },
 "nbformat": 4,
 "nbformat_minor": 2
}
